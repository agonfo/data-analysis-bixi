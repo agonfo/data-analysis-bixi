{
 "cells": [
  {
   "cell_type": "markdown",
   "metadata": {},
   "source": [
    "# Counting days in the period of the analysis"
   ]
  },
  {
   "cell_type": "code",
   "execution_count": 17,
   "metadata": {},
   "outputs": [],
   "source": [
    "import datetime\n",
    "import calendar"
   ]
  },
  {
   "cell_type": "code",
   "execution_count": 18,
   "metadata": {},
   "outputs": [],
   "source": [
    "def weekday_count(start , end):\n",
    "    #solution from T.Okahara in https://stackoverflow.com/\n",
    "    #function to calculet number of days in a period of time\n",
    "    #IMPUT:\n",
    "    #start and end: strings of th start and end date in format day/month/year\n",
    "    #OUTPUT:\n",
    "    #dict total number of days as values and day as keys\n",
    "    \n",
    "    start_date = datetime.datetime.strptime(start, '%d/%m/%Y')\n",
    "    end_date = datetime.datetime.strptime(end, '%d/%m/%Y')\n",
    "    week = {}\n",
    "    \n",
    "    for i in range((end_date - start_date).days):\n",
    "        day = calendar.day_name[(start_date + datetime.timedelta(days=i+1)).weekday()]\n",
    "        week[day] = week[day] + 1 if day in week else 1\n",
    "    return week"
   ]
  },
  {
   "cell_type": "code",
   "execution_count": 19,
   "metadata": {},
   "outputs": [],
   "source": [
    "dct_2014 = weekday_count(\"15/04/2014\", \"15/11/2014\")\n",
    "dct_2015 = weekday_count(\"15/04/2015\", \"15/11/2015\")\n",
    "dct_2016 = weekday_count(\"15/04/2016\", \"15/11/2016\")\n",
    "dct_2017 = weekday_count(\"15/04/2017\", \"15/11/2017\")\n",
    "dct_2018 = weekday_count(\"15/04/2018\", \"15/11/2018\")\n",
    "dct_2019 = weekday_count(\"14/04/2019\", \"31/10/2019\")"
   ]
  },
  {
   "cell_type": "code",
   "execution_count": 20,
   "metadata": {},
   "outputs": [
    {
     "name": "stdout",
     "output_type": "stream",
     "text": [
      "Monday -  182\n",
      "Tuesday -  182\n",
      "Wednesday -  182\n",
      "Thursday -  182\n",
      "Friday -  180\n",
      "Saturday-  181\n",
      "Sunday -  181\n"
     ]
    }
   ],
   "source": [
    "#there must be another way to do this but and I'm running out of time ahhhh!!!\n",
    "mo = dct_2014['Monday'] + dct_2015['Monday'] + dct_2016['Monday'] + dct_2017['Monday'] + dct_2018['Monday'] +  dct_2019['Monday']\n",
    "tu = dct_2014['Tuesday'] + dct_2015['Tuesday'] + dct_2016['Tuesday'] + dct_2017['Tuesday'] + dct_2018['Tuesday'] +  dct_2019['Tuesday']\n",
    "we = dct_2014['Wednesday'] + dct_2015['Wednesday'] + dct_2016['Wednesday'] + dct_2017['Wednesday'] + dct_2018['Wednesday'] + dct_2019['Wednesday']\n",
    "th = dct_2014['Thursday'] + dct_2015['Thursday'] + dct_2016['Thursday'] + dct_2017['Thursday'] + dct_2018['Thursday'] + dct_2019['Thursday']\n",
    "fr = dct_2014['Friday'] + dct_2015['Friday'] + dct_2016['Friday'] + dct_2017['Friday'] + dct_2018['Friday'] + dct_2019['Friday']\n",
    "sa = dct_2014['Saturday'] + dct_2015['Saturday'] + dct_2016['Saturday'] + dct_2017['Saturday'] + dct_2018['Saturday'] + dct_2019['Saturday']\n",
    "su = dct_2014['Sunday'] + dct_2015['Sunday'] + dct_2016['Sunday'] + dct_2017['Sunday'] + dct_2018['Sunday'] + dct_2019['Sunday']\n",
    "\n",
    "print('Monday - ' , mo)\n",
    "print('Tuesday - ' , tu)\n",
    "print('Wednesday - ' , we)\n",
    "print('Thursday - ' , th)\n",
    "print('Friday - ' , fr)\n",
    "print('Saturday- ' , sa)\n",
    "print('Sunday - ' , su)"
   ]
  },
  {
   "cell_type": "code",
   "execution_count": 22,
   "metadata": {},
   "outputs": [
    {
     "name": "stdout",
     "output_type": "stream",
     "text": [
      "1270\n"
     ]
    }
   ],
   "source": [
    "total = mo+tu+we+th+fr+sa+su\n",
    "print(total)"
   ]
  },
  {
   "cell_type": "code",
   "execution_count": null,
   "metadata": {},
   "outputs": [],
   "source": []
  }
 ],
 "metadata": {
  "kernelspec": {
   "display_name": "Python 3",
   "language": "python",
   "name": "python3"
  },
  "language_info": {
   "codemirror_mode": {
    "name": "ipython",
    "version": 3
   },
   "file_extension": ".py",
   "mimetype": "text/x-python",
   "name": "python",
   "nbconvert_exporter": "python",
   "pygments_lexer": "ipython3",
   "version": "3.7.7"
  }
 },
 "nbformat": 4,
 "nbformat_minor": 4
}
