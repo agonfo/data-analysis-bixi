{
 "cells": [
  {
   "cell_type": "markdown",
   "metadata": {},
   "source": [
    "# Group DataFrames from each month into one year"
   ]
  },
  {
   "cell_type": "code",
   "execution_count": 2,
   "metadata": {},
   "outputs": [],
   "source": [
    "import pandas as pd\n",
    "import numpy as np"
   ]
  },
  {
   "cell_type": "code",
   "execution_count": 3,
   "metadata": {},
   "outputs": [
    {
     "data": {
      "text/html": [
       "<div>\n",
       "<style scoped>\n",
       "    .dataframe tbody tr th:only-of-type {\n",
       "        vertical-align: middle;\n",
       "    }\n",
       "\n",
       "    .dataframe tbody tr th {\n",
       "        vertical-align: top;\n",
       "    }\n",
       "\n",
       "    .dataframe thead th {\n",
       "        text-align: right;\n",
       "    }\n",
       "</style>\n",
       "<table border=\"1\" class=\"dataframe\">\n",
       "  <thead>\n",
       "    <tr style=\"text-align: right;\">\n",
       "      <th></th>\n",
       "      <th>start_date</th>\n",
       "      <th>start_station_code</th>\n",
       "      <th>end_date</th>\n",
       "      <th>end_station_code</th>\n",
       "      <th>duration_sec</th>\n",
       "      <th>is_member</th>\n",
       "    </tr>\n",
       "  </thead>\n",
       "  <tbody>\n",
       "    <tr>\n",
       "      <th>0</th>\n",
       "      <td>2017-04-15 00:00</td>\n",
       "      <td>7060</td>\n",
       "      <td>2017-04-15 00:31</td>\n",
       "      <td>7060</td>\n",
       "      <td>1841</td>\n",
       "      <td>1</td>\n",
       "    </tr>\n",
       "    <tr>\n",
       "      <th>1</th>\n",
       "      <td>2017-04-15 00:01</td>\n",
       "      <td>6173</td>\n",
       "      <td>2017-04-15 00:10</td>\n",
       "      <td>6173</td>\n",
       "      <td>553</td>\n",
       "      <td>1</td>\n",
       "    </tr>\n",
       "    <tr>\n",
       "      <th>2</th>\n",
       "      <td>2017-04-15 00:01</td>\n",
       "      <td>6203</td>\n",
       "      <td>2017-04-15 00:04</td>\n",
       "      <td>6204</td>\n",
       "      <td>195</td>\n",
       "      <td>1</td>\n",
       "    </tr>\n",
       "    <tr>\n",
       "      <th>3</th>\n",
       "      <td>2017-04-15 00:01</td>\n",
       "      <td>6104</td>\n",
       "      <td>2017-04-15 00:06</td>\n",
       "      <td>6114</td>\n",
       "      <td>285</td>\n",
       "      <td>1</td>\n",
       "    </tr>\n",
       "    <tr>\n",
       "      <th>4</th>\n",
       "      <td>2017-04-15 00:01</td>\n",
       "      <td>6174</td>\n",
       "      <td>2017-04-15 00:11</td>\n",
       "      <td>6174</td>\n",
       "      <td>569</td>\n",
       "      <td>1</td>\n",
       "    </tr>\n",
       "  </tbody>\n",
       "</table>\n",
       "</div>"
      ],
      "text/plain": [
       "         start_date  start_station_code          end_date  end_station_code  \\\n",
       "0  2017-04-15 00:00                7060  2017-04-15 00:31              7060   \n",
       "1  2017-04-15 00:01                6173  2017-04-15 00:10              6173   \n",
       "2  2017-04-15 00:01                6203  2017-04-15 00:04              6204   \n",
       "3  2017-04-15 00:01                6104  2017-04-15 00:06              6114   \n",
       "4  2017-04-15 00:01                6174  2017-04-15 00:11              6174   \n",
       "\n",
       "   duration_sec  is_member  \n",
       "0          1841          1  \n",
       "1           553          1  \n",
       "2           195          1  \n",
       "3           285          1  \n",
       "4           569          1  "
      ]
     },
     "execution_count": 3,
     "metadata": {},
     "output_type": "execute_result"
    }
   ],
   "source": [
    "df_bx4 = pd.read_csv('../data/bixi/OD_2017-04.csv')\n",
    "df_bx5 = pd.read_csv('../data/bixi/OD_2017-05.csv')\n",
    "df_bx6 = pd.read_csv('../data/bixi/OD_2017-06.csv')\n",
    "df_bx7 = pd.read_csv('../data/bixi/OD_2017-07.csv')\n",
    "df_bx8 = pd.read_csv('../data/bixi/OD_2017-08.csv')\n",
    "df_bx9 = pd.read_csv('../data/bixi/OD_2017-09.csv')\n",
    "df_bx10 = pd.read_csv('../data/bixi/OD_2017-10.csv')\n",
    "df_bx11 = pd.read_csv('../data/bixi/OD_2017-11.csv')\n",
    "\n",
    "df_bx4.head()"
   ]
  },
  {
   "cell_type": "code",
   "execution_count": 4,
   "metadata": {},
   "outputs": [
    {
     "data": {
      "text/plain": [
       "(4740357, 6)"
      ]
     },
     "execution_count": 4,
     "metadata": {},
     "output_type": "execute_result"
    }
   ],
   "source": [
    "df_bixi_2017 = df_bx4.append([df_bx5 , df_bx6 , df_bx7 , df_bx8 , df_bx9 , df_bx10 , df_bx11] , ignore_index=True)\n",
    "df_bixi_2017.shape"
   ]
  },
  {
   "cell_type": "code",
   "execution_count": 5,
   "metadata": {},
   "outputs": [],
   "source": [
    "df_bixi_2017.to_csv('../data/bixi/bixi_2017.csv') # include the index as the other csv files"
   ]
  }
 ],
 "metadata": {
  "kernelspec": {
   "display_name": "Python 3.7.7 64-bit ('venv': venv)",
   "language": "python",
   "name": "python37764bitvenvvenvd1d2ebb12fb7406f9a96a49eecfa92a9"
  },
  "language_info": {
   "codemirror_mode": {
    "name": "ipython",
    "version": 3
   },
   "file_extension": ".py",
   "mimetype": "text/x-python",
   "name": "python",
   "nbconvert_exporter": "python",
   "pygments_lexer": "ipython3",
   "version": "3.7.7"
  }
 },
 "nbformat": 4,
 "nbformat_minor": 4
}
