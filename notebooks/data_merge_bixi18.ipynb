{
 "cells": [
  {
   "cell_type": "markdown",
   "metadata": {},
   "source": [
    "# Group DataFrames from each month into one year"
   ]
  },
  {
   "cell_type": "code",
   "execution_count": 1,
   "metadata": {},
   "outputs": [],
   "source": [
    "import pandas as pd\n",
    "import numpy as np"
   ]
  },
  {
   "cell_type": "code",
   "execution_count": 3,
   "metadata": {},
   "outputs": [
    {
     "data": {
      "text/html": [
       "<div>\n",
       "<style scoped>\n",
       "    .dataframe tbody tr th:only-of-type {\n",
       "        vertical-align: middle;\n",
       "    }\n",
       "\n",
       "    .dataframe tbody tr th {\n",
       "        vertical-align: top;\n",
       "    }\n",
       "\n",
       "    .dataframe thead th {\n",
       "        text-align: right;\n",
       "    }\n",
       "</style>\n",
       "<table border=\"1\" class=\"dataframe\">\n",
       "  <thead>\n",
       "    <tr style=\"text-align: right;\">\n",
       "      <th></th>\n",
       "      <th>start_date</th>\n",
       "      <th>start_station_code</th>\n",
       "      <th>end_date</th>\n",
       "      <th>end_station_code</th>\n",
       "      <th>duration_sec</th>\n",
       "      <th>is_member</th>\n",
       "    </tr>\n",
       "  </thead>\n",
       "  <tbody>\n",
       "    <tr>\n",
       "      <th>0</th>\n",
       "      <td>2018-04-10 11:56</td>\n",
       "      <td>7030</td>\n",
       "      <td>2018-04-10 11:57</td>\n",
       "      <td>6141</td>\n",
       "      <td>87</td>\n",
       "      <td>1</td>\n",
       "    </tr>\n",
       "    <tr>\n",
       "      <th>1</th>\n",
       "      <td>2018-04-10 11:56</td>\n",
       "      <td>6100</td>\n",
       "      <td>2018-04-10 11:59</td>\n",
       "      <td>6064</td>\n",
       "      <td>122</td>\n",
       "      <td>1</td>\n",
       "    </tr>\n",
       "    <tr>\n",
       "      <th>2</th>\n",
       "      <td>2018-04-10 11:57</td>\n",
       "      <td>6730</td>\n",
       "      <td>2018-04-10 12:16</td>\n",
       "      <td>6396</td>\n",
       "      <td>1132</td>\n",
       "      <td>1</td>\n",
       "    </tr>\n",
       "    <tr>\n",
       "      <th>3</th>\n",
       "      <td>2018-04-10 11:58</td>\n",
       "      <td>6108</td>\n",
       "      <td>2018-04-10 12:02</td>\n",
       "      <td>6114</td>\n",
       "      <td>271</td>\n",
       "      <td>1</td>\n",
       "    </tr>\n",
       "    <tr>\n",
       "      <th>4</th>\n",
       "      <td>2018-04-10 12:01</td>\n",
       "      <td>6223</td>\n",
       "      <td>2018-04-10 12:10</td>\n",
       "      <td>6233</td>\n",
       "      <td>513</td>\n",
       "      <td>1</td>\n",
       "    </tr>\n",
       "  </tbody>\n",
       "</table>\n",
       "</div>"
      ],
      "text/plain": [
       "         start_date  start_station_code          end_date  end_station_code  \\\n",
       "0  2018-04-10 11:56                7030  2018-04-10 11:57              6141   \n",
       "1  2018-04-10 11:56                6100  2018-04-10 11:59              6064   \n",
       "2  2018-04-10 11:57                6730  2018-04-10 12:16              6396   \n",
       "3  2018-04-10 11:58                6108  2018-04-10 12:02              6114   \n",
       "4  2018-04-10 12:01                6223  2018-04-10 12:10              6233   \n",
       "\n",
       "   duration_sec  is_member  \n",
       "0            87          1  \n",
       "1           122          1  \n",
       "2          1132          1  \n",
       "3           271          1  \n",
       "4           513          1  "
      ]
     },
     "execution_count": 3,
     "metadata": {},
     "output_type": "execute_result"
    }
   ],
   "source": [
    "df_bx4 = pd.read_csv('../data/bixi/OD_2018-04.csv')\n",
    "df_bx5 = pd.read_csv('../data/bixi/OD_2018-05.csv')\n",
    "df_bx6 = pd.read_csv('../data/bixi/OD_2018-06.csv')\n",
    "df_bx7 = pd.read_csv('../data/bixi/OD_2018-07.csv')\n",
    "df_bx8 = pd.read_csv('../data/bixi/OD_2018-08.csv')\n",
    "df_bx9 = pd.read_csv('../data/bixi/OD_2018-09.csv')\n",
    "df_bx10 = pd.read_csv('../data/bixi/OD_2018-10.csv')\n",
    "df_bx11 = pd.read_csv('../data/bixi/OD_2018-11.csv')\n",
    "\n",
    "df_bx4.head()"
   ]
  },
  {
   "cell_type": "code",
   "execution_count": 11,
   "metadata": {},
   "outputs": [
    {
     "data": {
      "text/plain": [
       "(5277541, 6)"
      ]
     },
     "execution_count": 11,
     "metadata": {},
     "output_type": "execute_result"
    }
   ],
   "source": [
    "df_bixi_2018 = df_bx4.append([df_bx5 , df_bx6 , df_bx7 , df_bx8 , df_bx9 , df_bx10 , df_bx11] , ignore_index=True)\n",
    "df_bixi_2018.shape"
   ]
  },
  {
   "cell_type": "code",
   "execution_count": 7,
   "metadata": {},
   "outputs": [],
   "source": [
    "df_bixi_2018.to_csv('../data/bixi/bixi_2018.csv') # include the index as the other csv files"
   ]
  }
 ],
 "metadata": {
  "kernelspec": {
   "display_name": "Python 3.7.7 64-bit ('venv': venv)",
   "language": "python",
   "name": "python37764bitvenvvenvd1d2ebb12fb7406f9a96a49eecfa92a9"
  },
  "language_info": {
   "codemirror_mode": {
    "name": "ipython",
    "version": 3
   },
   "file_extension": ".py",
   "mimetype": "text/x-python",
   "name": "python",
   "nbconvert_exporter": "python",
   "pygments_lexer": "ipython3",
   "version": "3.7.7"
  }
 },
 "nbformat": 4,
 "nbformat_minor": 4
}
