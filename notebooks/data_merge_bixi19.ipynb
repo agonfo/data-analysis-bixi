{
 "cells": [
  {
   "cell_type": "markdown",
   "metadata": {},
   "source": [
    "# Group DataFrames from each month into one year"
   ]
  },
  {
   "cell_type": "code",
   "execution_count": 1,
   "metadata": {},
   "outputs": [],
   "source": [
    "import pandas as pd\n",
    "import numpy as np"
   ]
  },
  {
   "cell_type": "code",
   "execution_count": 2,
   "metadata": {},
   "outputs": [
    {
     "data": {
      "text/html": [
       "<div>\n",
       "<style scoped>\n",
       "    .dataframe tbody tr th:only-of-type {\n",
       "        vertical-align: middle;\n",
       "    }\n",
       "\n",
       "    .dataframe tbody tr th {\n",
       "        vertical-align: top;\n",
       "    }\n",
       "\n",
       "    .dataframe thead th {\n",
       "        text-align: right;\n",
       "    }\n",
       "</style>\n",
       "<table border=\"1\" class=\"dataframe\">\n",
       "  <thead>\n",
       "    <tr style=\"text-align: right;\">\n",
       "      <th></th>\n",
       "      <th>start_date</th>\n",
       "      <th>start_station_code</th>\n",
       "      <th>end_date</th>\n",
       "      <th>end_station_code</th>\n",
       "      <th>duration_sec</th>\n",
       "      <th>is_member</th>\n",
       "    </tr>\n",
       "  </thead>\n",
       "  <tbody>\n",
       "    <tr>\n",
       "      <th>0</th>\n",
       "      <td>2019-04-14 07:55:22</td>\n",
       "      <td>6001</td>\n",
       "      <td>2019-04-14 08:07:16</td>\n",
       "      <td>6132</td>\n",
       "      <td>713</td>\n",
       "      <td>1</td>\n",
       "    </tr>\n",
       "    <tr>\n",
       "      <th>1</th>\n",
       "      <td>2019-04-14 07:59:31</td>\n",
       "      <td>6411</td>\n",
       "      <td>2019-04-14 08:09:18</td>\n",
       "      <td>6411</td>\n",
       "      <td>587</td>\n",
       "      <td>1</td>\n",
       "    </tr>\n",
       "    <tr>\n",
       "      <th>2</th>\n",
       "      <td>2019-04-14 07:59:55</td>\n",
       "      <td>6097</td>\n",
       "      <td>2019-04-14 08:12:11</td>\n",
       "      <td>6036</td>\n",
       "      <td>736</td>\n",
       "      <td>1</td>\n",
       "    </tr>\n",
       "    <tr>\n",
       "      <th>3</th>\n",
       "      <td>2019-04-14 07:59:57</td>\n",
       "      <td>6310</td>\n",
       "      <td>2019-04-14 08:27:58</td>\n",
       "      <td>6345</td>\n",
       "      <td>1680</td>\n",
       "      <td>1</td>\n",
       "    </tr>\n",
       "    <tr>\n",
       "      <th>4</th>\n",
       "      <td>2019-04-14 08:00:37</td>\n",
       "      <td>7029</td>\n",
       "      <td>2019-04-14 08:14:12</td>\n",
       "      <td>6250</td>\n",
       "      <td>814</td>\n",
       "      <td>0</td>\n",
       "    </tr>\n",
       "  </tbody>\n",
       "</table>\n",
       "</div>"
      ],
      "text/plain": [
       "            start_date  start_station_code             end_date  \\\n",
       "0  2019-04-14 07:55:22                6001  2019-04-14 08:07:16   \n",
       "1  2019-04-14 07:59:31                6411  2019-04-14 08:09:18   \n",
       "2  2019-04-14 07:59:55                6097  2019-04-14 08:12:11   \n",
       "3  2019-04-14 07:59:57                6310  2019-04-14 08:27:58   \n",
       "4  2019-04-14 08:00:37                7029  2019-04-14 08:14:12   \n",
       "\n",
       "   end_station_code  duration_sec  is_member  \n",
       "0              6132           713          1  \n",
       "1              6411           587          1  \n",
       "2              6036           736          1  \n",
       "3              6345          1680          1  \n",
       "4              6250           814          0  "
      ]
     },
     "execution_count": 2,
     "metadata": {},
     "output_type": "execute_result"
    }
   ],
   "source": [
    "df_bx4 = pd.read_csv('../data/bixi/OD_2019-04.csv')\n",
    "df_bx5 = pd.read_csv('../data/bixi/OD_2019-05.csv')\n",
    "df_bx6 = pd.read_csv('../data/bixi/OD_2019-06.csv')\n",
    "df_bx7 = pd.read_csv('../data/bixi/OD_2019-07.csv')\n",
    "df_bx8 = pd.read_csv('../data/bixi/OD_2019-08.csv')\n",
    "df_bx9 = pd.read_csv('../data/bixi/OD_2019-09.csv')\n",
    "df_bx10 = pd.read_csv('../data/bixi/OD_2019-10.csv')\n",
    "\n",
    "df_bx4.head()"
   ]
  },
  {
   "cell_type": "code",
   "execution_count": 3,
   "metadata": {},
   "outputs": [
    {
     "data": {
      "text/plain": [
       "(5597845, 6)"
      ]
     },
     "execution_count": 3,
     "metadata": {},
     "output_type": "execute_result"
    }
   ],
   "source": [
    "df_bixi_2019 = df_bx4.append([df_bx5 , df_bx6 , df_bx7 , df_bx8 , df_bx9 , df_bx10] , ignore_index=True)\n",
    "df_bixi_2019.shape"
   ]
  },
  {
   "cell_type": "code",
   "execution_count": 4,
   "metadata": {},
   "outputs": [],
   "source": [
    "df_bixi_2019.to_csv('../data/bixi/bixi_2019.csv') # include the index as the other csv files"
   ]
  }
 ],
 "metadata": {
  "kernelspec": {
   "display_name": "Python 3.7.7 64-bit ('venv': venv)",
   "language": "python",
   "name": "python37764bitvenvvenvd1d2ebb12fb7406f9a96a49eecfa92a9"
  },
  "language_info": {
   "codemirror_mode": {
    "name": "ipython",
    "version": 3
   },
   "file_extension": ".py",
   "mimetype": "text/x-python",
   "name": "python",
   "nbconvert_exporter": "python",
   "pygments_lexer": "ipython3",
   "version": "3.7.7"
  }
 },
 "nbformat": 4,
 "nbformat_minor": 4
}
